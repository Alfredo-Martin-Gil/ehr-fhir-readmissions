{
  "nbformat": 4,
  "nbformat_minor": 0,
  "metadata": {
    "colab": {
      "provenance": []
    },
    "kernelspec": {
      "name": "python3",
      "display_name": "Python 3"
    },
    "language_info": {
      "name": "python"
    }
  },
  "cells": [
    {
      "cell_type": "markdown",
      "source": [
        "# ETL EHR → BigQuery (GCP)"
      ],
      "metadata": {
        "id": "1NTMB8jjxLI-"
      }
    },
    {
      "cell_type": "code",
      "execution_count": null,
      "metadata": {
        "id": "qsrNH7E2xAIR"
      },
      "outputs": [],
      "source": []
    },
    {
      "cell_type": "markdown",
      "source": [
        "## Data Quality (5 reglas)"
      ],
      "metadata": {
        "id": "q-q_2YskxPY6"
      }
    },
    {
      "cell_type": "markdown",
      "source": [
        "## Vista analítica para Power BI"
      ],
      "metadata": {
        "id": "qgUUj9aVxyfT"
      }
    }
  ]
}